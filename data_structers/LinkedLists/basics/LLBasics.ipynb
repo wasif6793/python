{
 "cells": [
  {
   "metadata": {},
   "cell_type": "raw",
   "source": [
    "A linkedList is a linear collection of data elements.\n",
    "These data elements are called Nodes, and they point to the next Node.\n"
   ],
   "id": "8bb2037cd009c73c"
  },
  {
   "metadata": {
    "ExecuteTime": {
     "end_time": "2025-08-24T00:33:23.143722Z",
     "start_time": "2025-08-24T00:33:23.133501Z"
    }
   },
   "cell_type": "code",
   "source": [
    "class Node(object):\n",
    "    def __init__(self,data=None,next_node=None):\n",
    "        self.data=data\n",
    "        self.next_node= next_node\n",
    "\n",
    "class Linkedlist(object):\n",
    "    def __init__(self,head = None):\n",
    "        self.head=head\n",
    "\n",
    "    def Display(self):\n",
    "        temp=self.head\n",
    "        while(temp):\n",
    "            print(temp.head,\"->\",end='')\n",
    "            temp=temp.next_node\n",
    "        print(\" \")\n"
   ],
   "id": "f85a9fbd7a329e2a",
   "outputs": [
    {
     "name": "stdout",
     "output_type": "stream",
     "text": [
      " \n"
     ]
    }
   ],
   "execution_count": 27
  },
  {
   "metadata": {},
   "cell_type": "markdown",
   "source": "Function to print the Linked List\n",
   "id": "53beb47946821f74"
  },
  {
   "metadata": {
    "ExecuteTime": {
     "end_time": "2025-08-24T00:33:23.159305Z",
     "start_time": "2025-08-24T00:33:23.149311Z"
    }
   },
   "cell_type": "code",
   "source": "",
   "id": "715ac536c3b03120",
   "outputs": [],
   "execution_count": null
  },
  {
   "metadata": {},
   "cell_type": "markdown",
   "source": "Get Size of the linked List",
   "id": "f6fbc79d7f0df479"
  },
  {
   "metadata": {
    "ExecuteTime": {
     "end_time": "2025-08-24T00:33:23.175301Z",
     "start_time": "2025-08-24T00:33:23.164303Z"
    }
   },
   "cell_type": "code",
   "source": [
    "def size(self):\n",
    "    current = self.head\n",
    "    count = 0\n",
    "    while current:\n",
    "        count += 1\n",
    "        current = current.next_node\n",
    "    return count"
   ],
   "id": "f285630468aeb702",
   "outputs": [],
   "execution_count": 28
  },
  {
   "metadata": {},
   "cell_type": "markdown",
   "source": "Insert a new node at the head of the linked list",
   "id": "4fec2f95339f0093"
  },
  {
   "metadata": {
    "ExecuteTime": {
     "end_time": "2025-08-24T00:33:23.191299Z",
     "start_time": "2025-08-24T00:33:23.180301Z"
    }
   },
   "cell_type": "code",
   "source": [
    "def insert_at_head(self,data):\n",
    "    new_node = Node(data)\n",
    "    new_node.next_node=self.head\n",
    "    self.head = new_node"
   ],
   "id": "37ab28d78a525f78",
   "outputs": [],
   "execution_count": 29
  },
  {
   "metadata": {},
   "cell_type": "markdown",
   "source": "Get Next node in Linked List",
   "id": "eb1d4dcdd940f383"
  },
  {
   "metadata": {
    "ExecuteTime": {
     "end_time": "2025-08-24T00:33:23.207297Z",
     "start_time": "2025-08-24T00:33:23.196300Z"
    }
   },
   "cell_type": "code",
   "source": [
    "def get_next_node(self,node):\n",
    "    return node.next_node.data"
   ],
   "id": "4abff21f50fcb17a",
   "outputs": [],
   "execution_count": 30
  },
  {
   "metadata": {},
   "cell_type": "markdown",
   "source": "Create and append nodes in a Linked List",
   "id": "bd2a7db0db273864"
  },
  {
   "metadata": {
    "ExecuteTime": {
     "end_time": "2025-08-24T00:33:23.223300Z",
     "start_time": "2025-08-24T00:33:23.212301Z"
    }
   },
   "cell_type": "code",
   "source": [
    "llist = Linkedlist()\n",
    "llist.head=Node(2)\n",
    "s = Node(3)\n",
    "t =Node(4)\n",
    "llist.head.next_node=s\n",
    "s.next_node = t"
   ],
   "id": "a8408eb41ca2f55f",
   "outputs": [],
   "execution_count": 31
  },
  {
   "metadata": {},
   "cell_type": "markdown",
   "source": "Calling Functions",
   "id": "2ebfef17af07d083"
  },
  {
   "metadata": {
    "ExecuteTime": {
     "end_time": "2025-08-24T00:33:23.255299Z",
     "start_time": "2025-08-24T00:33:23.229371Z"
    }
   },
   "cell_type": "code",
   "source": [
    "llist.Display()\n",
    "print(llist.size())\n",
    "llist.insert_at_head(6)\n",
    "print(llist.get_next_node(s))"
   ],
   "id": "cf1b4b3cbca830fa",
   "outputs": [
    {
     "ename": "AttributeError",
     "evalue": "'Node' object has no attribute 'head'",
     "output_type": "error",
     "traceback": [
      "\u001B[1;31m---------------------------------------------------------------------------\u001B[0m",
      "\u001B[1;31mAttributeError\u001B[0m                            Traceback (most recent call last)",
      "Cell \u001B[1;32mIn[32], line 1\u001B[0m\n\u001B[1;32m----> 1\u001B[0m \u001B[43mllist\u001B[49m\u001B[38;5;241;43m.\u001B[39;49m\u001B[43mDisplay\u001B[49m\u001B[43m(\u001B[49m\u001B[43m)\u001B[49m\n\u001B[0;32m      2\u001B[0m \u001B[38;5;28mprint\u001B[39m(llist\u001B[38;5;241m.\u001B[39msize())\n\u001B[0;32m      3\u001B[0m llist\u001B[38;5;241m.\u001B[39minsert_at_head(\u001B[38;5;241m6\u001B[39m)\n",
      "Cell \u001B[1;32mIn[27], line 13\u001B[0m, in \u001B[0;36mLinkedlist.Display\u001B[1;34m(self)\u001B[0m\n\u001B[0;32m     11\u001B[0m temp\u001B[38;5;241m=\u001B[39m\u001B[38;5;28mself\u001B[39m\u001B[38;5;241m.\u001B[39mhead\n\u001B[0;32m     12\u001B[0m \u001B[38;5;28;01mwhile\u001B[39;00m(temp):\n\u001B[1;32m---> 13\u001B[0m     \u001B[38;5;28mprint\u001B[39m(\u001B[43mtemp\u001B[49m\u001B[38;5;241;43m.\u001B[39;49m\u001B[43mhead\u001B[49m,\u001B[38;5;124m\"\u001B[39m\u001B[38;5;124m->\u001B[39m\u001B[38;5;124m\"\u001B[39m,end\u001B[38;5;241m=\u001B[39m\u001B[38;5;124m'\u001B[39m\u001B[38;5;124m'\u001B[39m)\n\u001B[0;32m     14\u001B[0m     temp\u001B[38;5;241m=\u001B[39mtemp\u001B[38;5;241m.\u001B[39mnext_node\n",
      "\u001B[1;31mAttributeError\u001B[0m: 'Node' object has no attribute 'head'"
     ]
    }
   ],
   "execution_count": 32
  }
 ],
 "metadata": {
  "kernelspec": {
   "display_name": "Python 3",
   "language": "python",
   "name": "python3"
  },
  "language_info": {
   "codemirror_mode": {
    "name": "ipython",
    "version": 2
   },
   "file_extension": ".py",
   "mimetype": "text/x-python",
   "name": "python",
   "nbconvert_exporter": "python",
   "pygments_lexer": "ipython2",
   "version": "2.7.6"
  }
 },
 "nbformat": 4,
 "nbformat_minor": 5
}
