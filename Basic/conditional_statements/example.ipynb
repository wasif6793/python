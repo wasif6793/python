{
 "cells": [
  {
   "metadata": {},
   "cell_type": "markdown",
   "source": "BAsics\n",
   "id": "879ad7ce157df3ec"
  },
  {
   "metadata": {
    "jupyter": {
     "is_executing": true
    }
   },
   "cell_type": "code",
   "source": [
    "a = 12\n",
    "b = 11\n",
    "c = a- b\n",
    "print(c)"
   ],
   "id": "1792d55cf0ab4da3",
   "outputs": [],
   "execution_count": null
  }
 ],
 "metadata": {
  "kernelspec": {
   "display_name": "Python 3",
   "language": "python",
   "name": "python3"
  },
  "language_info": {
   "codemirror_mode": {
    "name": "ipython",
    "version": 2
   },
   "file_extension": ".py",
   "mimetype": "text/x-python",
   "name": "python",
   "nbconvert_exporter": "python",
   "pygments_lexer": "ipython2",
   "version": "2.7.6"
  }
 },
 "nbformat": 4,
 "nbformat_minor": 5
}
